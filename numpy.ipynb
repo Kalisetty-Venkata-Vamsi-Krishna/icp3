{
 "cells": [
  {
   "cell_type": "code",
   "execution_count": 2,
   "id": "a17607a8-d031-47ba-a946-5c8dbbf3de41",
   "metadata": {},
   "outputs": [
    {
     "name": "stdout",
     "output_type": "stream",
     "text": [
      "(3, 5)\n",
      "[[13  8 13 16 19]\n",
      " [ 9 18  6 16 11]\n",
      " [ 6 13 19  1  9]]\n",
      "\n",
      " [[13  8 13 16  0]\n",
      " [ 9  0  6 16 11]\n",
      " [ 6 13  0  1  9]]\n"
     ]
    }
   ],
   "source": [
    "import numpy as np\n",
    "v =  np.random.randint(1,20,(15,))\n",
    "arr = v.reshape(3,5)\n",
    "print(arr.shape)\n",
    "print(arr)\n",
    "row_max = arr.max(axis=1).reshape(-1,1)\n",
    "arr = np.where(arr == row_max, 0, arr)\n",
    "print('\\n',arr)"
   ]
  },
  {
   "cell_type": "code",
   "execution_count": 3,
   "id": "5601f24b-8a05-44f5-87c9-e56a6a6cf1dd",
   "metadata": {},
   "outputs": [
    {
     "name": "stdout",
     "output_type": "stream",
     "text": [
      "Shape: (4, 3)\n",
      "Type: <class 'numpy.ndarray'>\n",
      "Data type: int32\n"
     ]
    }
   ],
   "source": [
    "x = np.array([[1, 2, 3], [4, 5, 6], [7, 8, 9], [10, 5, 7]], np.int32)\n",
    "print('Shape:', x.shape)\n",
    "print('Type:', type(x))\n",
    "print('Data type:', x.dtype)"
   ]
  },
  {
   "cell_type": "code",
   "execution_count": 4,
   "id": "0a74a1a7-139f-403a-9f96-844d46e2c567",
   "metadata": {},
   "outputs": [
    {
     "name": "stdout",
     "output_type": "stream",
     "text": [
      "Eigenvalues: [2. 1.]\n",
      "\n",
      "Right eigenvectors:\n",
      " [[0.89442719 0.70710678]\n",
      " [0.4472136  0.70710678]]\n"
     ]
    }
   ],
   "source": [
    "from numpy import linalg as LA\n",
    "mat = np.array([[3, -2], [1, 0]], np.int32)\n",
    "w, v = LA.eig(mat)\n",
    "print('Eigenvalues:', w)\n",
    "print('\\nRight eigenvectors:\\n', v)"
   ]
  },
  {
   "cell_type": "code",
   "execution_count": 5,
   "id": "eacf1ed7-f137-402d-80de-1f46f2ccc360",
   "metadata": {},
   "outputs": [
    {
     "name": "stdout",
     "output_type": "stream",
     "text": [
      "Sum of diagonal elements: 4\n"
     ]
    }
   ],
   "source": [
    "n = np.array([[0, 1, 2], [3, 4, 5]])\n",
    "res = np.trace(n)\n",
    "print('Sum of diagonal elements:', res)"
   ]
  },
  {
   "cell_type": "code",
   "execution_count": 10,
   "id": "a7951ad6-85b3-495e-a3f3-b3917a0d4f12",
   "metadata": {},
   "outputs": [
    {
     "name": "stdout",
     "output_type": "stream",
     "text": [
      "reshape 3,2\n",
      " [[1 2]\n",
      " [3 4]\n",
      " [5 6]]\n",
      "reshape 2,3\n",
      " [[1 2 3]\n",
      " [4 5 6]]\n"
     ]
    }
   ],
   "source": [
    "m = np.arange(1,7).reshape(3,2)\n",
    "print(\"reshape 3,2\\n\",m)\n",
    "m = m.reshape(2,3)\n",
    "print(\"reshape 2,3\\n\",m)"
   ]
  },
  {
   "cell_type": "code",
   "execution_count": null,
   "id": "5759361b-ed56-4da8-b8d1-78c85339199a",
   "metadata": {},
   "outputs": [],
   "source": []
  }
 ],
 "metadata": {
  "kernelspec": {
   "display_name": "Python 3 (ipykernel)",
   "language": "python",
   "name": "python3"
  },
  "language_info": {
   "codemirror_mode": {
    "name": "ipython",
    "version": 3
   },
   "file_extension": ".py",
   "mimetype": "text/x-python",
   "name": "python",
   "nbconvert_exporter": "python",
   "pygments_lexer": "ipython3",
   "version": "3.12.1"
  }
 },
 "nbformat": 4,
 "nbformat_minor": 5
}
